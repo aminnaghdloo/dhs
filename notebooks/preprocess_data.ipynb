{
 "cells": [
  {
   "cell_type": "markdown",
   "metadata": {},
   "source": [
    "### Split dataset into training, validation, and test sets\n",
    "- Chromosomes 8, 12 are held out for independent test set.\n",
    "- Remaining data is split into training and validation sets with validation set\n",
    "  containing the same number of datapoints as test set.\n",
    "  "
   ]
  },
  {
   "cell_type": "code",
   "execution_count": 14,
   "metadata": {},
   "outputs": [],
   "source": [
    "import pandas as pd"
   ]
  },
  {
   "cell_type": "code",
   "execution_count": 15,
   "metadata": {},
   "outputs": [],
   "source": [
    "# load and shuffle data\n",
    "df = pd.read_feather('../data/master_data/test_dataset.ftr')\n",
    "df = df.sample(frac=1)"
   ]
  },
  {
   "cell_type": "code",
   "execution_count": 16,
   "metadata": {},
   "outputs": [],
   "source": [
    "# generating label column\n",
    "label_map = {item: index for index, item in enumerate(df['TAG'].unique())}\n",
    "df['label'] = df['TAG'].map(label_map)"
   ]
  },
  {
   "cell_type": "code",
   "execution_count": 17,
   "metadata": {},
   "outputs": [],
   "source": [
    "# split data into train, test, and validation\n",
    "test_index = df['chr'].isin(['chr8', 'chr12'])\n",
    "df_test = df[test_index]\n",
    "df_temp = df[~test_index]\n",
    "df_valid = df_temp.sample(n=df_test.shape[0], random_state=2024)\n",
    "df_train = df_temp.drop(df_valid.index)"
   ]
  },
  {
   "cell_type": "code",
   "execution_count": 18,
   "metadata": {},
   "outputs": [
    {
     "name": "stdout",
     "output_type": "stream",
     "text": [
      "(47872, 19) (38992, 19) (4440, 19) (4440, 19)\n"
     ]
    }
   ],
   "source": [
    "# monitor data sizes\n",
    "print(df.shape, df_train.shape, df_valid.shape, df_test.shape)"
   ]
  },
  {
   "cell_type": "code",
   "execution_count": 19,
   "metadata": {},
   "outputs": [],
   "source": [
    "# save data to individual files\n",
    "df_train.to_feather('../data/df_train.ftr')\n",
    "df_valid.to_feather('../data/df_valid.ftr')\n",
    "df_test.to_feather('../data/df_test.ftr')"
   ]
  }
 ],
 "metadata": {
  "kernelspec": {
   "display_name": "dhs",
   "language": "python",
   "name": "python3"
  },
  "language_info": {
   "codemirror_mode": {
    "name": "ipython",
    "version": 3
   },
   "file_extension": ".py",
   "mimetype": "text/x-python",
   "name": "python",
   "nbconvert_exporter": "python",
   "pygments_lexer": "ipython3",
   "version": "3.9.19"
  }
 },
 "nbformat": 4,
 "nbformat_minor": 2
}
